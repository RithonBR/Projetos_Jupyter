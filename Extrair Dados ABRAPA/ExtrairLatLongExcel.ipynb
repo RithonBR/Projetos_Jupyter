{
 "cells": [
  {
   "cell_type": "code",
   "execution_count": 1,
   "id": "2040d8fe-fa30-4e92-8f24-883400990b64",
   "metadata": {},
   "outputs": [],
   "source": [
    "#!pip pandas openpyxl selenium webdriver-manager"
   ]
  },
  {
   "cell_type": "code",
   "execution_count": 2,
   "id": "bec44666-0b6c-49ee-9e78-e1668a30baff",
   "metadata": {},
   "outputs": [],
   "source": [
    "import pandas as pd\n",
    "import matplotlib.pyplot as plt\n",
    "import re\n",
    "import time\n",
    "from selenium import webdriver\n",
    "from selenium.webdriver.common.by import By\n",
    "from selenium.webdriver.chrome.service import Service\n",
    "from webdriver_manager.chrome import ChromeDriverManager"
   ]
  },
  {
   "cell_type": "code",
   "execution_count": 3,
   "id": "ee495871-e637-4cfe-aeef-139763ac9857",
   "metadata": {},
   "outputs": [],
   "source": [
    "dados = pd.read_excel(\"Excel/UBA_Cadastradas_SAI.xlsx\")\n",
    "dados_ativos = dados[dados['Status'] == 'Ativa'].copy()\n",
    "dados_ativos['Empresas'] = dados_ativos['Nome fantasia'] + \" / \" + dados_ativos['Razão social'] + \" / \" + dados_ativos['Município'] + \" / \" + dados_ativos['UF']\n",
    "dados_ativos.to_excel(\"Excel/Empresas_Ativas.xlsx\")"
   ]
  },
  {
   "cell_type": "code",
   "execution_count": 4,
   "id": "33798f6b-6a03-416a-946d-11b2029859e0",
   "metadata": {},
   "outputs": [
    {
     "ename": "KeyboardInterrupt",
     "evalue": "",
     "output_type": "error",
     "traceback": [
      "\u001b[31m---------------------------------------------------------------------------\u001b[39m",
      "\u001b[31mKeyboardInterrupt\u001b[39m                         Traceback (most recent call last)",
      "\u001b[36mCell\u001b[39m\u001b[36m \u001b[39m\u001b[32mIn[4]\u001b[39m\u001b[32m, line 10\u001b[39m\n\u001b[32m      8\u001b[39m url_busca = \u001b[33mf\u001b[39m\u001b[33m\"\u001b[39m\u001b[33mhttps://www.google.com/maps/search/\u001b[39m\u001b[38;5;132;01m{\u001b[39;00mnome_empresa.replace(\u001b[33m'\u001b[39m\u001b[33m \u001b[39m\u001b[33m'\u001b[39m,\u001b[38;5;250m \u001b[39m\u001b[33m'\u001b[39m\u001b[33m+\u001b[39m\u001b[33m'\u001b[39m)\u001b[38;5;132;01m}\u001b[39;00m\u001b[33m\"\u001b[39m\n\u001b[32m      9\u001b[39m driver.get(url_busca)\n\u001b[32m---> \u001b[39m\u001b[32m10\u001b[39m \u001b[43mtime\u001b[49m\u001b[43m.\u001b[49m\u001b[43msleep\u001b[49m\u001b[43m(\u001b[49m\u001b[32;43m3\u001b[39;49m\u001b[43m)\u001b[49m\n\u001b[32m     11\u001b[39m url_final = driver.current_url\n\u001b[32m     12\u001b[39m \u001b[38;5;66;03m# print(url_final)\u001b[39;00m\n",
      "\u001b[31mKeyboardInterrupt\u001b[39m: "
     ]
    }
   ],
   "source": [
    "options = webdriver.ChromeOptions()\n",
    "options.add_argument(\"--headless\")\n",
    "driver = webdriver.Chrome(service=Service(ChromeDriverManager().install()), options=options)\n",
    "links_maps = [] \n",
    "\n",
    "for row_number in range(len(dados_ativos['Empresas'])):\n",
    "    nome_empresa = dados_ativos['Empresas'].iloc[row_number]\n",
    "    url_busca = f\"https://www.google.com/maps/search/{nome_empresa.replace(' ', '+')}\"\n",
    "    driver.get(url_busca)\n",
    "    time.sleep(3)\n",
    "    url_final = driver.current_url\n",
    "    # print(url_final)\n",
    "    links_maps.append(url_final)\n",
    "\n",
    "driver.quit()\n",
    "dados_ativos[\"URL maps\"] = links_maps\n",
    "dados_ativos.to_excel(\"Excel/EMPRESAS_ATIVAS_COM_LINK.xlsx\")\n",
    "print(\"terminou\")"
   ]
  },
  {
   "cell_type": "code",
   "execution_count": null,
   "id": "17991908-2114-471f-9977-d6daa669c9a1",
   "metadata": {},
   "outputs": [],
   "source": [
    "latitudes = []\n",
    "longitudes = []\n",
    "\n",
    "for url in dados_ativos[\"URL maps\"]:\n",
    "    match = re.search(r'@(-?\\d+\\.\\d+),(-?\\d+\\.\\d+)', url)\n",
    "    if match:\n",
    "        latitudes.append(float(match.group(1)))\n",
    "        longitudes.append(float(match.group(2)))\n",
    "    else:\n",
    "        latitudes.append(None)\n",
    "        longitudes.append(None)\n",
    "\n",
    "dados_ativos[\"Latitude\"] = latitudes\n",
    "dados_ativos[\"Longitude\"] = longitudes\n",
    "dados_ativos.to_excel(\"Excel/EMPRESAS_ATIVAS_COM_COORDENADAS.xlsx\")\n",
    "print(\"terminou\")"
   ]
  },
  {
   "cell_type": "code",
   "execution_count": null,
   "id": "dce6421c-87c8-4369-af58-2569843a3695",
   "metadata": {},
   "outputs": [],
   "source": [
    "# So de sacanagem pra ver isso\n",
    "contagem_por_uf = dados_ativos['UF'].value_counts().sort_values(ascending=False)\n",
    "plt.figure(figsize=(10, 6))\n",
    "contagem_por_uf.plot(kind='bar', color='skyblue', edgecolor='black')\n",
    "\n",
    "plt.title(\"Quantidade de Algodoeiras Ativas por UF\")\n",
    "plt.xlabel(\"UF\")\n",
    "plt.ylabel(\"Quantidade de Algodoeiras\")\n",
    "plt.xticks(rotation=45)\n",
    "plt.tight_layout()\n",
    "plt.grid(axis='y', linestyle='--', alpha=1)\n",
    "\n",
    "plt.show()"
   ]
  }
 ],
 "metadata": {
  "kernelspec": {
   "display_name": "Python 3 (ipykernel)",
   "language": "python",
   "name": "python3"
  },
  "language_info": {
   "codemirror_mode": {
    "name": "ipython",
    "version": 3
   },
   "file_extension": ".py",
   "mimetype": "text/x-python",
   "name": "python",
   "nbconvert_exporter": "python",
   "pygments_lexer": "ipython3",
   "version": "3.13.4"
  }
 },
 "nbformat": 4,
 "nbformat_minor": 5
}
